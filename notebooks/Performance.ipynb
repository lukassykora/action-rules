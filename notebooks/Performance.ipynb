{
 "cells": [
  {
   "cell_type": "markdown",
   "id": "e5809149-3590-47aa-950d-c5fb7fe222e9",
   "metadata": {},
   "source": [
    "# Performance Numpy vs. Cupy vs. ActionRulesDiscovery"
   ]
  },
  {
   "cell_type": "markdown",
   "id": "c8d12d17-311f-4f6a-8f67-bcfd24d717ea",
   "metadata": {},
   "source": [
    "## Parameters"
   ]
  },
  {
   "cell_type": "code",
   "execution_count": 1,
   "id": "68822492-3e64-4bbc-8ea0-79a6b7e27f14",
   "metadata": {},
   "outputs": [],
   "source": [
    "stable_attributes = [\"gender\", \"SeniorCitizen\", \"Partner\"]\n",
    "flexible_attributes = [\"PhoneService\", \n",
    "                       \"InternetService\", \n",
    "                       \"OnlineSecurity\", \n",
    "                       \"DeviceProtection\", \n",
    "                       \"TechSupport\",\n",
    "                       \"StreamingTV\"]\n",
    "target = 'Churn'\n",
    "min_stable_attributes = 2\n",
    "min_flexible_attributes = 1 #min 1\n",
    "min_undesired_support = 50\n",
    "min_undesired_confidence = 0.6\n",
    "min_desired_support = 50\n",
    "min_desired_confidence = 0.6\n",
    "undesired_state = 'Yes'\n",
    "desired_state = 'No'"
   ]
  },
  {
   "cell_type": "markdown",
   "id": "2bcc85ff-8b18-48f6-a487-61c750307ad3",
   "metadata": {},
   "source": [
    "## Pandas, Numpy (action-rules)"
   ]
  },
  {
   "cell_type": "code",
   "execution_count": 2,
   "id": "7b47fcac-cb49-41ac-b85a-43d4b5f4d46a",
   "metadata": {},
   "outputs": [],
   "source": [
    "import pandas as pd"
   ]
  },
  {
   "cell_type": "markdown",
   "id": "a52a3b7c-49ec-4da9-9906-30de19ed9293",
   "metadata": {},
   "source": [
    "### Data"
   ]
  },
  {
   "cell_type": "markdown",
   "id": "1b347a9f-8ed3-45dc-8ff6-9afed9b7620a",
   "metadata": {},
   "source": [
    "Import data to Pandas DataFrame."
   ]
  },
  {
   "cell_type": "code",
   "execution_count": 3,
   "id": "4f2f5d34-cab3-4302-b16d-2fad870940bc",
   "metadata": {},
   "outputs": [
    {
     "data": {
      "text/html": [
       "<div>\n",
       "<style scoped>\n",
       "    .dataframe tbody tr th:only-of-type {\n",
       "        vertical-align: middle;\n",
       "    }\n",
       "\n",
       "    .dataframe tbody tr th {\n",
       "        vertical-align: top;\n",
       "    }\n",
       "\n",
       "    .dataframe thead th {\n",
       "        text-align: right;\n",
       "    }\n",
       "</style>\n",
       "<table border=\"1\" class=\"dataframe\">\n",
       "  <thead>\n",
       "    <tr style=\"text-align: right;\">\n",
       "      <th></th>\n",
       "      <th>customerID</th>\n",
       "      <th>gender</th>\n",
       "      <th>SeniorCitizen</th>\n",
       "      <th>Partner</th>\n",
       "      <th>Dependents</th>\n",
       "      <th>tenure</th>\n",
       "      <th>PhoneService</th>\n",
       "      <th>MultipleLines</th>\n",
       "      <th>InternetService</th>\n",
       "      <th>OnlineSecurity</th>\n",
       "      <th>OnlineBackup</th>\n",
       "      <th>DeviceProtection</th>\n",
       "      <th>TechSupport</th>\n",
       "      <th>StreamingTV</th>\n",
       "      <th>StreamingMovies</th>\n",
       "      <th>Contract</th>\n",
       "      <th>PaperlessBilling</th>\n",
       "      <th>PaymentMethod</th>\n",
       "      <th>MonthlyCharges</th>\n",
       "      <th>TotalCharges</th>\n",
       "      <th>Churn</th>\n",
       "    </tr>\n",
       "  </thead>\n",
       "  <tbody>\n",
       "    <tr>\n",
       "      <th>0</th>\n",
       "      <td>7590-VHVEG</td>\n",
       "      <td>Female</td>\n",
       "      <td>0</td>\n",
       "      <td>Yes</td>\n",
       "      <td>No</td>\n",
       "      <td>1</td>\n",
       "      <td>No</td>\n",
       "      <td>No phone service</td>\n",
       "      <td>DSL</td>\n",
       "      <td>No</td>\n",
       "      <td>Yes</td>\n",
       "      <td>No</td>\n",
       "      <td>No</td>\n",
       "      <td>No</td>\n",
       "      <td>No</td>\n",
       "      <td>Month-to-month</td>\n",
       "      <td>Yes</td>\n",
       "      <td>Electronic check</td>\n",
       "      <td>29.85</td>\n",
       "      <td>29.85</td>\n",
       "      <td>No</td>\n",
       "    </tr>\n",
       "    <tr>\n",
       "      <th>1</th>\n",
       "      <td>5575-GNVDE</td>\n",
       "      <td>Male</td>\n",
       "      <td>0</td>\n",
       "      <td>No</td>\n",
       "      <td>No</td>\n",
       "      <td>34</td>\n",
       "      <td>Yes</td>\n",
       "      <td>No</td>\n",
       "      <td>DSL</td>\n",
       "      <td>Yes</td>\n",
       "      <td>No</td>\n",
       "      <td>Yes</td>\n",
       "      <td>No</td>\n",
       "      <td>No</td>\n",
       "      <td>No</td>\n",
       "      <td>One year</td>\n",
       "      <td>No</td>\n",
       "      <td>Mailed check</td>\n",
       "      <td>56.95</td>\n",
       "      <td>1889.5</td>\n",
       "      <td>No</td>\n",
       "    </tr>\n",
       "    <tr>\n",
       "      <th>2</th>\n",
       "      <td>3668-QPYBK</td>\n",
       "      <td>Male</td>\n",
       "      <td>0</td>\n",
       "      <td>No</td>\n",
       "      <td>No</td>\n",
       "      <td>2</td>\n",
       "      <td>Yes</td>\n",
       "      <td>No</td>\n",
       "      <td>DSL</td>\n",
       "      <td>Yes</td>\n",
       "      <td>Yes</td>\n",
       "      <td>No</td>\n",
       "      <td>No</td>\n",
       "      <td>No</td>\n",
       "      <td>No</td>\n",
       "      <td>Month-to-month</td>\n",
       "      <td>Yes</td>\n",
       "      <td>Mailed check</td>\n",
       "      <td>53.85</td>\n",
       "      <td>108.15</td>\n",
       "      <td>Yes</td>\n",
       "    </tr>\n",
       "    <tr>\n",
       "      <th>3</th>\n",
       "      <td>7795-CFOCW</td>\n",
       "      <td>Male</td>\n",
       "      <td>0</td>\n",
       "      <td>No</td>\n",
       "      <td>No</td>\n",
       "      <td>45</td>\n",
       "      <td>No</td>\n",
       "      <td>No phone service</td>\n",
       "      <td>DSL</td>\n",
       "      <td>Yes</td>\n",
       "      <td>No</td>\n",
       "      <td>Yes</td>\n",
       "      <td>Yes</td>\n",
       "      <td>No</td>\n",
       "      <td>No</td>\n",
       "      <td>One year</td>\n",
       "      <td>No</td>\n",
       "      <td>Bank transfer (automatic)</td>\n",
       "      <td>42.30</td>\n",
       "      <td>1840.75</td>\n",
       "      <td>No</td>\n",
       "    </tr>\n",
       "    <tr>\n",
       "      <th>4</th>\n",
       "      <td>9237-HQITU</td>\n",
       "      <td>Female</td>\n",
       "      <td>0</td>\n",
       "      <td>No</td>\n",
       "      <td>No</td>\n",
       "      <td>2</td>\n",
       "      <td>Yes</td>\n",
       "      <td>No</td>\n",
       "      <td>Fiber optic</td>\n",
       "      <td>No</td>\n",
       "      <td>No</td>\n",
       "      <td>No</td>\n",
       "      <td>No</td>\n",
       "      <td>No</td>\n",
       "      <td>No</td>\n",
       "      <td>Month-to-month</td>\n",
       "      <td>Yes</td>\n",
       "      <td>Electronic check</td>\n",
       "      <td>70.70</td>\n",
       "      <td>151.65</td>\n",
       "      <td>Yes</td>\n",
       "    </tr>\n",
       "  </tbody>\n",
       "</table>\n",
       "</div>"
      ],
      "text/plain": [
       "   customerID  gender  SeniorCitizen Partner Dependents  tenure PhoneService  \\\n",
       "0  7590-VHVEG  Female              0     Yes         No       1           No   \n",
       "1  5575-GNVDE    Male              0      No         No      34          Yes   \n",
       "2  3668-QPYBK    Male              0      No         No       2          Yes   \n",
       "3  7795-CFOCW    Male              0      No         No      45           No   \n",
       "4  9237-HQITU  Female              0      No         No       2          Yes   \n",
       "\n",
       "      MultipleLines InternetService OnlineSecurity OnlineBackup  \\\n",
       "0  No phone service             DSL             No          Yes   \n",
       "1                No             DSL            Yes           No   \n",
       "2                No             DSL            Yes          Yes   \n",
       "3  No phone service             DSL            Yes           No   \n",
       "4                No     Fiber optic             No           No   \n",
       "\n",
       "  DeviceProtection TechSupport StreamingTV StreamingMovies        Contract  \\\n",
       "0               No          No          No              No  Month-to-month   \n",
       "1              Yes          No          No              No        One year   \n",
       "2               No          No          No              No  Month-to-month   \n",
       "3              Yes         Yes          No              No        One year   \n",
       "4               No          No          No              No  Month-to-month   \n",
       "\n",
       "  PaperlessBilling              PaymentMethod  MonthlyCharges TotalCharges  \\\n",
       "0              Yes           Electronic check           29.85        29.85   \n",
       "1               No               Mailed check           56.95       1889.5   \n",
       "2              Yes               Mailed check           53.85       108.15   \n",
       "3               No  Bank transfer (automatic)           42.30      1840.75   \n",
       "4              Yes           Electronic check           70.70       151.65   \n",
       "\n",
       "  Churn  \n",
       "0    No  \n",
       "1    No  \n",
       "2   Yes  \n",
       "3    No  \n",
       "4   Yes  "
      ]
     },
     "execution_count": 3,
     "metadata": {},
     "output_type": "execute_result"
    }
   ],
   "source": [
    "pd.set_option('display.max_columns', None)\n",
    "dataFrame = pd.read_csv(\"data/telco.csv\", sep=\";\")\n",
    "dataFrame = pd.concat([dataFrame] * 10)\n",
    "dataFrame.head()"
   ]
  },
  {
   "cell_type": "markdown",
   "id": "18fee7d5-8b86-41f6-a179-149ae2b51d77",
   "metadata": {},
   "source": [
    "### Action rules"
   ]
  },
  {
   "cell_type": "code",
   "execution_count": 4,
   "id": "5125f54b-8c7a-4253-9bc0-159013b6bc24",
   "metadata": {},
   "outputs": [],
   "source": [
    "from action_rules import ActionRules\n",
    "# Action Rules Mining\n",
    "action_rules = ActionRules(\n",
    "    min_stable_attributes = min_stable_attributes, \n",
    "    min_flexible_attributes = min_flexible_attributes, \n",
    "    min_undesired_support = min_undesired_support, \n",
    "    min_undesired_confidence = min_undesired_confidence, \n",
    "    min_desired_support = min_desired_support,\n",
    "    min_desired_confidence = min_desired_confidence, \n",
    "    verbose = False)"
   ]
  },
  {
   "cell_type": "code",
   "execution_count": 5,
   "id": "1920619d-e970-4b07-a0ec-04a2e51b4f54",
   "metadata": {},
   "outputs": [],
   "source": [
    "def measure_time():\n",
    "    action_rules.fit(\n",
    "        data = dataFrame, \n",
    "        stable_attributes = stable_attributes, \n",
    "        flexible_attributes = flexible_attributes, \n",
    "        target = target, \n",
    "        target_undesired_state = undesired_state,\n",
    "        target_desired_state = desired_state, \n",
    "        use_gpu = True,\n",
    "        use_sparse_matrix = False\n",
    "    )"
   ]
  },
  {
   "cell_type": "markdown",
   "id": "91b407e2-645c-443a-9ca4-1c2c9fac9053",
   "metadata": {},
   "source": [
    "### Count action rules"
   ]
  },
  {
   "cell_type": "code",
   "execution_count": 6,
   "id": "90c03625-951d-4ee1-b61b-e660e579b492",
   "metadata": {},
   "outputs": [
    {
     "name": "stdout",
     "output_type": "stream",
     "text": [
      "Used memory: 0.00 MB\n",
      "Total memory: 0.00 MB\n"
     ]
    }
   ],
   "source": [
    "import cupy as cp\n",
    "\n",
    "# Function to print memory usage\n",
    "def print_memory_usage():\n",
    "    mem_pool = cp.get_default_memory_pool()\n",
    "    pinned_mem_pool = cp.get_default_pinned_memory_pool()\n",
    "    print(f\"Used memory: {mem_pool.used_bytes() / 1024**2:.2f} MB\")\n",
    "    print(f\"Total memory: {mem_pool.total_bytes() / 1024**2:.2f} MB\")\n",
    "\n",
    "print_memory_usage()"
   ]
  },
  {
   "cell_type": "code",
   "execution_count": 7,
   "id": "103c2c4b-ac1f-4c03-b2ca-b572f12b8371",
   "metadata": {},
   "outputs": [
    {
     "data": {
      "text/plain": [
       "4045"
      ]
     },
     "execution_count": 7,
     "metadata": {},
     "output_type": "execute_result"
    }
   ],
   "source": [
    "measure_time()\n",
    "len(action_rules.get_rules().get_ar_notation())"
   ]
  },
  {
   "cell_type": "code",
   "execution_count": 8,
   "id": "9013f053-8724-4126-a37d-3987fe5d3153",
   "metadata": {},
   "outputs": [
    {
     "name": "stdout",
     "output_type": "stream",
     "text": [
      "Used memory: 4.88 MB\n",
      "Total memory: 5588.19 MB\n"
     ]
    }
   ],
   "source": [
    "print_memory_usage()"
   ]
  },
  {
   "cell_type": "raw",
   "id": "d9084905-c62e-4daf-ac6b-7e98e40d8ad7",
   "metadata": {},
   "source": [
    "Used memory: 5121536\n",
    "Total memory: 5859637760"
   ]
  },
  {
   "cell_type": "markdown",
   "id": "7d957acb-6377-41ca-8c51-f57872b2d202",
   "metadata": {},
   "source": [
    "### Time"
   ]
  },
  {
   "cell_type": "raw",
   "id": "1126f3c1-159e-410d-a807-c608f8860c8f",
   "metadata": {},
   "source": [
    "1x gpu\n",
    "5.03//v1\n",
    "5.57//v2\n",
    "1xCPU\n",
    "1.2 //v.1\n",
    "1.28//v.2\n",
    "\n",
    "\n",
    "10xCPU\n",
    "24.4\n",
    "10xGPU\n",
    "12"
   ]
  },
  {
   "cell_type": "code",
   "execution_count": 9,
   "id": "f9f03631-1e2f-4682-aa9e-7eacf05ee4f4",
   "metadata": {},
   "outputs": [
    {
     "name": "stdout",
     "output_type": "stream",
     "text": [
      "12.4 s ± 197 ms per loop (mean ± std. dev. of 7 runs, 1 loop each)\n"
     ]
    }
   ],
   "source": [
    "%timeit measure_time()"
   ]
  },
  {
   "cell_type": "code",
   "execution_count": 10,
   "id": "6c660bd2-fcd8-4b31-ad1d-f851b4bccd70",
   "metadata": {},
   "outputs": [
    {
     "name": "stdout",
     "output_type": "stream",
     "text": [
      "Used memory: 4.88 MB\n",
      "Total memory: 5588.19 MB\n"
     ]
    }
   ],
   "source": [
    "print_memory_usage()"
   ]
  },
  {
   "cell_type": "markdown",
   "id": "2cd69495-9963-4a04-ad66-cebdf4ca84ce",
   "metadata": {},
   "source": [
    "## Pandas, Scipy Sparse Matrix (action-rules)"
   ]
  },
  {
   "cell_type": "code",
   "execution_count": 11,
   "id": "c50f35ff-72b6-4895-92f1-8dcd847d5d87",
   "metadata": {},
   "outputs": [],
   "source": [
    "from action_rules import ActionRules\n",
    "# Action Rules Mining\n",
    "action_rules = ActionRules(\n",
    "    min_stable_attributes = min_stable_attributes, \n",
    "    min_flexible_attributes = min_flexible_attributes, \n",
    "    min_undesired_support = min_undesired_support, \n",
    "    min_undesired_confidence = min_undesired_confidence, \n",
    "    min_desired_support = min_desired_support,\n",
    "    min_desired_confidence = min_desired_confidence, \n",
    "    verbose = False)"
   ]
  },
  {
   "cell_type": "code",
   "execution_count": 12,
   "id": "ab9f645c-6509-4e14-ab22-7a13c13ccf73",
   "metadata": {},
   "outputs": [],
   "source": [
    "def measure_time2():\n",
    "    action_rules.fit(\n",
    "        data = dataFrame, \n",
    "        stable_attributes = stable_attributes, \n",
    "        flexible_attributes = flexible_attributes, \n",
    "        target = target, \n",
    "        target_undesired_state = undesired_state,\n",
    "        target_desired_state = desired_state, \n",
    "        use_gpu = True,\n",
    "        use_sparse_matrix = False \n",
    "    )"
   ]
  },
  {
   "cell_type": "code",
   "execution_count": 13,
   "id": "7ceb22e5-5c87-4568-8886-965604a857f4",
   "metadata": {},
   "outputs": [
    {
     "data": {
      "text/plain": [
       "4045"
      ]
     },
     "execution_count": 13,
     "metadata": {},
     "output_type": "execute_result"
    }
   ],
   "source": [
    "measure_time2()\n",
    "len(action_rules.get_rules().get_ar_notation())"
   ]
  },
  {
   "cell_type": "code",
   "execution_count": 14,
   "id": "856ea356-6598-4fc4-9c27-345fe6f362f9",
   "metadata": {},
   "outputs": [
    {
     "name": "stdout",
     "output_type": "stream",
     "text": [
      "12.3 s ± 135 ms per loop (mean ± std. dev. of 7 runs, 1 loop each)\n"
     ]
    }
   ],
   "source": [
    "%timeit measure_time2()"
   ]
  },
  {
   "cell_type": "code",
   "execution_count": null,
   "id": "ee487d71-039b-4a5e-abd3-c43e9415ab8e",
   "metadata": {},
   "outputs": [],
   "source": []
  },
  {
   "cell_type": "code",
   "execution_count": null,
   "id": "88164e93-ff88-4b05-b005-d8c8324ab02b",
   "metadata": {},
   "outputs": [],
   "source": []
  },
  {
   "cell_type": "code",
   "execution_count": 15,
   "id": "f53e1bfb-b74d-4918-8d65-f9fa9992d879",
   "metadata": {},
   "outputs": [
    {
     "name": "stdout",
     "output_type": "stream",
     "text": [
      "<class 'cupyx.scipy.sparse._csr.csr_matrix'>\n",
      "float64\n",
      "[[False  True False]\n",
      " [ True False  True]\n",
      " [False  True False]]\n"
     ]
    }
   ],
   "source": [
    "import cupy as cp\n",
    "from cupyx.scipy.sparse import csr_matrix\n",
    "\n",
    "# Example sparse matrix\n",
    "data = cp.array([[0, 1, 0], [1, 0, 1], [0, 1, 0]], dtype=float)\n",
    "sparse_matrix = csr_matrix(data)\n",
    "\n",
    "# Perform the comparison\n",
    "print(type(sparse_matrix))\n",
    "print(sparse_matrix.dtype)\n",
    "comparison_result = sparse_matrix == 1\n",
    "\n",
    "# Convert to a dense format to view the result (for demonstration purposes)\n",
    "dense_result = comparison_result.todense()\n",
    "print(dense_result)"
   ]
  },
  {
   "cell_type": "code",
   "execution_count": 16,
   "id": "bb2c9d87-dd9e-4f9a-9cd6-66a7128a3c20",
   "metadata": {},
   "outputs": [
    {
     "data": {
      "text/plain": [
       "array(4.)"
      ]
     },
     "execution_count": 16,
     "metadata": {},
     "output_type": "execute_result"
    }
   ],
   "source": [
    "sparse_matrix.sum()"
   ]
  },
  {
   "cell_type": "code",
   "execution_count": null,
   "id": "19c323e2-d436-4a92-bcd7-a328509f1826",
   "metadata": {},
   "outputs": [],
   "source": []
  },
  {
   "cell_type": "code",
   "execution_count": null,
   "id": "f5c3dc0e-b7a1-4a5e-b206-a5a59c51fbfe",
   "metadata": {},
   "outputs": [],
   "source": []
  },
  {
   "cell_type": "code",
   "execution_count": null,
   "id": "6194c69a-8b14-42b8-a5fd-7b367860970f",
   "metadata": {},
   "outputs": [],
   "source": []
  },
  {
   "cell_type": "code",
   "execution_count": null,
   "id": "6417611e-d50f-42f0-812c-6c708c30fca6",
   "metadata": {},
   "outputs": [],
   "source": []
  },
  {
   "cell_type": "code",
   "execution_count": null,
   "id": "2a0e401f-266e-4f97-99ed-38fb4cb1c6bd",
   "metadata": {},
   "outputs": [],
   "source": []
  },
  {
   "cell_type": "markdown",
   "id": "45cea4ae-beae-4fd6-8ad8-725c91e94f85",
   "metadata": {},
   "source": [
    "### Show first five rules"
   ]
  },
  {
   "cell_type": "code",
   "execution_count": 8,
   "id": "7656b5a2-4eeb-41c5-8125-02136d7488c4",
   "metadata": {},
   "outputs": [
    {
     "name": "stdout",
     "output_type": "stream",
     "text": [
      "{'undesired': {'itemset': (0, 3, 11, 14), 'support': 144, 'confidence': 0.602510460251046, 'target': 24}, 'desired': {'itemset': (0, 3, 11, 16), 'support': 102, 'confidence': 0.6415094339622641, 'target': 23}, 'uplift': 58.32075471698113}\n",
      "\n",
      "{'undesired': {'itemset': (0, 3, 11, 14), 'support': 144, 'confidence': 0.602510460251046, 'target': 24}, 'desired': {'itemset': (0, 3, 13, 16), 'support': 66, 'confidence': 0.8571428571428571, 'target': 23}, 'uplift': 109.85714285714283}\n",
      "\n",
      "{'undesired': {'itemset': (0, 3, 7, 11, 14), 'support': 130, 'confidence': 0.6074766355140186, 'target': 24}, 'desired': {'itemset': (0, 3, 7, 11, 16), 'support': 94, 'confidence': 0.6438356164383562, 'target': 23}, 'uplift': 53.780821917808225}\n",
      "\n",
      "{'undesired': {'itemset': (0, 3, 7, 11, 14), 'support': 130, 'confidence': 0.6074766355140186, 'target': 24}, 'desired': {'itemset': (0, 3, 7, 13, 16), 'support': 62, 'confidence': 0.8493150684931506, 'target': 23}, 'uplift': 97.75342465753423}\n",
      "\n",
      "{'undesired': {'itemset': (0, 3, 9, 11, 14), 'support': 121, 'confidence': 0.6335078534031413, 'target': 24}, 'desired': {'itemset': (0, 3, 9, 11, 16), 'support': 79, 'confidence': 0.6076923076923076, 'target': 23}, 'uplift': 46.06923076923074}\n",
      "\n"
     ]
    }
   ],
   "source": [
    "for ar in action_rules.get_rules().get_ar_notation()[:5]:\n",
    "    print(ar)\n",
    "    print()"
   ]
  },
  {
   "cell_type": "markdown",
   "id": "7d5dd7c4-edd3-4b42-beee-c71edca2f538",
   "metadata": {},
   "source": [
    "## CuPy (action-rules)"
   ]
  },
  {
   "cell_type": "code",
   "execution_count": 21,
   "id": "20e8dc04-dc73-4a52-add8-cfe88bd74ed0",
   "metadata": {},
   "outputs": [
    {
     "ename": "ModuleNotFoundError",
     "evalue": "No module named 'cudf'",
     "output_type": "error",
     "traceback": [
      "\u001b[0;31m---------------------------------------------------------------------------\u001b[0m",
      "\u001b[0;31mModuleNotFoundError\u001b[0m                       Traceback (most recent call last)",
      "Cell \u001b[0;32mIn[21], line 1\u001b[0m\n\u001b[0;32m----> 1\u001b[0m \u001b[38;5;28;01mimport\u001b[39;00m \u001b[38;5;21;01mcudf\u001b[39;00m\n",
      "\u001b[0;31mModuleNotFoundError\u001b[0m: No module named 'cudf'"
     ]
    }
   ],
   "source": [
    "import cudf"
   ]
  },
  {
   "cell_type": "raw",
   "id": "dfc6f0a9-5544-4ed5-bc40-131445391fc6",
   "metadata": {},
   "source": [
    "### Data"
   ]
  },
  {
   "cell_type": "markdown",
   "id": "8e4c1515-2f46-4b62-b65e-5b8ec3069769",
   "metadata": {},
   "source": [
    "Import data to cuDF dataframe"
   ]
  },
  {
   "cell_type": "raw",
   "id": "37ed38aa-3f15-425d-aca1-5e8b347b0fd5",
   "metadata": {},
   "source": [
    "dataFrame = cudf.read_csv(\"data/telco.csv\", sep=\";\")\n",
    "dataFrame.head()"
   ]
  },
  {
   "cell_type": "code",
   "execution_count": 9,
   "id": "a05c4fb3-2b54-4e65-8b39-e5ce5c951ec6",
   "metadata": {},
   "outputs": [],
   "source": [
    "### Actio rules"
   ]
  },
  {
   "cell_type": "code",
   "execution_count": 10,
   "id": "9c9b1971-7512-4d94-af80-2409cc5bff81",
   "metadata": {},
   "outputs": [],
   "source": [
    "from action_rules import ActionRules\n",
    "# Action Rules Mining\n",
    "action_rules = ActionRules(\n",
    "    min_stable_attributes = min_stable_attributes, \n",
    "    min_flexible_attributes = min_flexible_attributes, \n",
    "    min_undesired_support = min_undesired_support, \n",
    "    min_undesired_confidence = min_undesired_confidence, \n",
    "    min_desired_support = min_desired_support,\n",
    "    min_desired_confidence = min_desired_confidence, \n",
    "    verbose = False)"
   ]
  },
  {
   "cell_type": "code",
   "execution_count": 11,
   "id": "66ce7128-1eff-4018-99d2-a7bbce6a64b9",
   "metadata": {},
   "outputs": [],
   "source": [
    "def measure_time_2():\n",
    "    action_rules.fit(\n",
    "        data = dataFrame, \n",
    "        stable_attributes = stable_attributes, \n",
    "        flexible_attributes = flexible_attributes, \n",
    "        target = target, \n",
    "        target_undesired_state = undesired_state,\n",
    "        target_desired_state = desired_state, \n",
    "        use_gpu = True # Use cuDF\n",
    "    )"
   ]
  },
  {
   "cell_type": "markdown",
   "id": "e8ed2764-e530-4a01-84a1-eb9201945689",
   "metadata": {},
   "source": [
    "### Count action rules"
   ]
  },
  {
   "cell_type": "code",
   "execution_count": 12,
   "id": "36b878fc-35f6-4e0d-9bbb-fd5d215c020e",
   "metadata": {},
   "outputs": [
    {
     "name": "stderr",
     "output_type": "stream",
     "text": [
      "/home/lukas/.local/lib/python3.9/site-packages/scipy/__init__.py:155: UserWarning: A NumPy version >=1.18.5 and <1.26.0 is required for this version of SciPy (detected version 1.26.4\n",
      "  warnings.warn(f\"A NumPy version >={np_minversion} and <{np_maxversion}\"\n"
     ]
    },
    {
     "data": {
      "text/plain": [
       "327"
      ]
     },
     "execution_count": 12,
     "metadata": {},
     "output_type": "execute_result"
    }
   ],
   "source": [
    "measure_time_2()\n",
    "len(action_rules.get_rules().get_ar_notation())"
   ]
  },
  {
   "cell_type": "markdown",
   "id": "3432ea81-793c-4b13-b75f-a383a7e096b9",
   "metadata": {},
   "source": [
    "### Time"
   ]
  },
  {
   "cell_type": "code",
   "execution_count": 13,
   "id": "1493ccf5-d9c3-4c17-aa1e-cbbe642add8a",
   "metadata": {},
   "outputs": [
    {
     "name": "stdout",
     "output_type": "stream",
     "text": [
      "5.47 s ± 141 ms per loop (mean ± std. dev. of 7 runs, 1 loop each)\n"
     ]
    }
   ],
   "source": [
    "%timeit measure_time_2()"
   ]
  },
  {
   "cell_type": "markdown",
   "id": "d3ccc489-f5b0-4a79-abf3-de55f3fecc0c",
   "metadata": {},
   "source": [
    "### Show first five rules"
   ]
  },
  {
   "cell_type": "code",
   "execution_count": 14,
   "id": "829842cb-bc34-4a26-8a44-51face7cb0a3",
   "metadata": {},
   "outputs": [
    {
     "name": "stdout",
     "output_type": "stream",
     "text": [
      "{'undesired': {'itemset': (0, 3, 11, 14), 'support': array(144, dtype=uint64), 'confidence': array(0.60251046), 'target': 24}, 'desired': {'itemset': (0, 3, 11, 16), 'support': array(102, dtype=uint64), 'confidence': array(0.64150943), 'target': 23}, 'uplift': array(58.32075472)}\n",
      "\n",
      "{'undesired': {'itemset': (0, 3, 11, 14), 'support': array(144, dtype=uint64), 'confidence': array(0.60251046), 'target': 24}, 'desired': {'itemset': (0, 3, 13, 16), 'support': array(66, dtype=uint64), 'confidence': array(0.85714286), 'target': 23}, 'uplift': array(109.85714286)}\n",
      "\n",
      "{'undesired': {'itemset': (0, 3, 7, 11, 14), 'support': array(130, dtype=uint64), 'confidence': array(0.60747664), 'target': 24}, 'desired': {'itemset': (0, 3, 7, 11, 16), 'support': array(94, dtype=uint64), 'confidence': array(0.64383562), 'target': 23}, 'uplift': array(53.78082192)}\n",
      "\n",
      "{'undesired': {'itemset': (0, 3, 7, 11, 14), 'support': array(130, dtype=uint64), 'confidence': array(0.60747664), 'target': 24}, 'desired': {'itemset': (0, 3, 7, 13, 16), 'support': array(62, dtype=uint64), 'confidence': array(0.84931507), 'target': 23}, 'uplift': array(97.75342466)}\n",
      "\n",
      "{'undesired': {'itemset': (0, 3, 9, 11, 14), 'support': array(121, dtype=uint64), 'confidence': array(0.63350785), 'target': 24}, 'desired': {'itemset': (0, 3, 9, 11, 16), 'support': array(79, dtype=uint64), 'confidence': array(0.60769231), 'target': 23}, 'uplift': array(46.06923077)}\n",
      "\n"
     ]
    }
   ],
   "source": [
    "for ar in action_rules.get_rules().get_ar_notation()[:5]:\n",
    "    print(ar)\n",
    "    print()"
   ]
  },
  {
   "cell_type": "markdown",
   "id": "37ff9e60-7949-42ca-b715-a8f10c0f467c",
   "metadata": {},
   "source": [
    "## DEAR algorithm (actionRulesDiscovery)"
   ]
  },
  {
   "cell_type": "code",
   "execution_count": 17,
   "id": "287c7ad1-b6a4-4d63-b1d2-5c307ee153ed",
   "metadata": {},
   "outputs": [],
   "source": [
    "from actionrules.actionRulesDiscovery import ActionRulesDiscovery"
   ]
  },
  {
   "cell_type": "code",
   "execution_count": 18,
   "id": "32b1e20d-fa1e-411c-bc91-3a72abb03d72",
   "metadata": {},
   "outputs": [],
   "source": [
    "### Action Rules"
   ]
  },
  {
   "cell_type": "code",
   "execution_count": 19,
   "id": "3832ed3a-8880-48bf-8e0a-71928be7274a",
   "metadata": {},
   "outputs": [],
   "source": [
    "def measure_time_3():\n",
    "    actionRulesDiscovery = ActionRulesDiscovery()\n",
    "    actionRulesDiscovery.load_pandas(dataFrame)\n",
    "    actionRulesDiscovery.fit(stable_attributes = stable_attributes ,\n",
    "                             flexible_attributes = flexible_attributes,\n",
    "                             consequent = target,\n",
    "                             conf = min_undesired_confidence * 100, # There is just one confidence for both desired and undesired part.\n",
    "                             supp = -min_undesired_support, # There is just one support for both desired and undesired part. Minus means that it is the absolute support.\n",
    "                             desired_changes = [[undesired_state, desired_state]],\n",
    "                             is_nan=False,\n",
    "                             is_reduction=True,\n",
    "                             min_stable_attributes=min_stable_attributes,\n",
    "                             min_flexible_attributes=min_flexible_attributes,\n",
    "                             is_strict_flexible=False\n",
    "                            )\n",
    "    return actionRulesDiscovery"
   ]
  },
  {
   "cell_type": "markdown",
   "id": "4edc6b59-b910-494a-a2b4-7863f9cecc30",
   "metadata": {},
   "source": [
    "### Count action rules"
   ]
  },
  {
   "cell_type": "code",
   "execution_count": 20,
   "id": "8039b487-c13d-4d60-a0b3-b3a93c1365f6",
   "metadata": {},
   "outputs": [
    {
     "name": "stderr",
     "output_type": "stream",
     "text": [
      "/home/lukas/anaconda3/envs/action_rules/lib/python3.12/site-packages/actionrules/decisions/decisions.py:81: FutureWarning: DataFrame.applymap has been deprecated. Use DataFrame.map instead.\n",
      "  self.data = self.data.applymap(str)\n"
     ]
    },
    {
     "data": {
      "text/plain": [
       "4015"
      ]
     },
     "execution_count": 20,
     "metadata": {},
     "output_type": "execute_result"
    }
   ],
   "source": [
    "actionRulesDiscovery = measure_time_3()\n",
    "len(actionRulesDiscovery.get_action_rules())"
   ]
  },
  {
   "cell_type": "markdown",
   "id": "c5125724-29ba-4776-be97-af1fe3fc0404",
   "metadata": {},
   "source": [
    "### Time"
   ]
  },
  {
   "cell_type": "code",
   "execution_count": 21,
   "id": "fb636744-c702-48b4-a469-b4b0297daeb4",
   "metadata": {},
   "outputs": [
    {
     "name": "stderr",
     "output_type": "stream",
     "text": [
      "/home/lukas/anaconda3/envs/action_rules/lib/python3.12/site-packages/actionrules/decisions/decisions.py:81: FutureWarning: DataFrame.applymap has been deprecated. Use DataFrame.map instead.\n",
      "  self.data = self.data.applymap(str)\n",
      "/home/lukas/anaconda3/envs/action_rules/lib/python3.12/site-packages/actionrules/decisions/decisions.py:81: FutureWarning: DataFrame.applymap has been deprecated. Use DataFrame.map instead.\n",
      "  self.data = self.data.applymap(str)\n",
      "/home/lukas/anaconda3/envs/action_rules/lib/python3.12/site-packages/actionrules/decisions/decisions.py:81: FutureWarning: DataFrame.applymap has been deprecated. Use DataFrame.map instead.\n",
      "  self.data = self.data.applymap(str)\n",
      "/home/lukas/anaconda3/envs/action_rules/lib/python3.12/site-packages/actionrules/decisions/decisions.py:81: FutureWarning: DataFrame.applymap has been deprecated. Use DataFrame.map instead.\n",
      "  self.data = self.data.applymap(str)\n",
      "/home/lukas/anaconda3/envs/action_rules/lib/python3.12/site-packages/actionrules/decisions/decisions.py:81: FutureWarning: DataFrame.applymap has been deprecated. Use DataFrame.map instead.\n",
      "  self.data = self.data.applymap(str)\n",
      "/home/lukas/anaconda3/envs/action_rules/lib/python3.12/site-packages/actionrules/decisions/decisions.py:81: FutureWarning: DataFrame.applymap has been deprecated. Use DataFrame.map instead.\n",
      "  self.data = self.data.applymap(str)\n",
      "/home/lukas/anaconda3/envs/action_rules/lib/python3.12/site-packages/actionrules/decisions/decisions.py:81: FutureWarning: DataFrame.applymap has been deprecated. Use DataFrame.map instead.\n",
      "  self.data = self.data.applymap(str)\n",
      "/home/lukas/anaconda3/envs/action_rules/lib/python3.12/site-packages/actionrules/decisions/decisions.py:81: FutureWarning: DataFrame.applymap has been deprecated. Use DataFrame.map instead.\n",
      "  self.data = self.data.applymap(str)\n"
     ]
    },
    {
     "name": "stdout",
     "output_type": "stream",
     "text": [
      "9.96 s ± 76.2 ms per loop (mean ± std. dev. of 7 runs, 1 loop each)\n"
     ]
    }
   ],
   "source": [
    "%timeit measure_time_3()"
   ]
  },
  {
   "cell_type": "markdown",
   "id": "5fc49b44-6293-4afc-a48e-90a6f3f04322",
   "metadata": {},
   "source": [
    "### Show first five rules"
   ]
  },
  {
   "cell_type": "code",
   "execution_count": 20,
   "id": "9bed1219-0179-42ed-a048-9fe3bb6727d8",
   "metadata": {},
   "outputs": [
    {
     "name": "stdout",
     "output_type": "stream",
     "text": [
      "r = [(Partner: no) ∧ (SeniorCitizen: 0) ∧  (PhoneService: yes)  ∧  (TechSupport: no)  ∧  (OnlineSecurity: no)  ∧  (DeviceProtection: no)  ∧ (InternetService: fiber optic → dsl) ] ⇒ [Churn: Yes → No] with support: 0.021723697288087464, confidence: 0.3756265939671093, uplift: 0.01756678852282622.\n",
      " \n",
      "r = [(Partner: no) ∧ (SeniorCitizen: 0) ∧  (PhoneService: yes)  ∧ (TechSupport: no → yes)  ∧  (OnlineSecurity: no)  ∧ (DeviceProtection: no → yes)  ∧  (InternetService: fiber optic) ] ⇒ [Churn: Yes → No] with support: 0.009371006673292631, confidence: 0.4292203758347569, uplift: 0.02438818081028092.\n",
      " \n",
      "r = [(Partner: no) ∧ (SeniorCitizen: 0) ∧  (PhoneService: yes)  ∧ (TechSupport: no → yes)  ∧  (OnlineSecurity: no)  ∧  (DeviceProtection: no)  ∧ (InternetService: fiber optic → dsl) ] ⇒ [Churn: Yes → No] with support: 0.011216811018032088, confidence: 0.46887180214017427, uplift: 0.029434996395236473.\n",
      " \n",
      "r = [(Partner: no) ∧ (SeniorCitizen: 0) ∧  (PhoneService: yes)  ∧ (TechSupport: no → yes)  ∧  (OnlineSecurity: no)  ∧ (DeviceProtection: no → yes)  ∧ (InternetService: fiber optic → dsl) ] ⇒ [Churn: Yes → No] with support: 0.007525202328553173, confidence: 0.5225747586531669, uplift: 0.03627028438211357.\n",
      " \n",
      "r = [(Partner: no) ∧ (SeniorCitizen: 0) ∧  (PhoneService: yes)  ∧  (TechSupport: no)  ∧ (OnlineSecurity: no → yes)  ∧  (DeviceProtection: no)  ∧  (InternetService: fiber optic) ] ⇒ [Churn: Yes → No] with support: 0.008093142126934546, confidence: 0.374676242053214, uplift: 0.017445828161569712.\n",
      " \n",
      "r = [(Partner: no) ∧ (SeniorCitizen: 0) ∧  (PhoneService: yes)  ∧  (TechSupport: no)  ∧ (OnlineSecurity: no → yes)  ∧  (DeviceProtection: no)  ∧ (InternetService: fiber optic → dsl) ] ⇒ [Churn: Yes → No] with support: 0.011358795967627431, confidence: 0.46136895744387824, uplift: 0.028480037719775295.\n",
      " \n",
      "r = [(Partner: no) ∧ (SeniorCitizen: 0) ∧  (PhoneService: yes)  ∧ (TechSupport: no → yes)  ∧ (OnlineSecurity: no → yes)  ∧ (DeviceProtection: no → yes)  ∧  (InternetService: fiber optic) ] ⇒ [Churn: Yes → No] with support: 0.008377112026125231, confidence: 0.5079932147630307, uplift: 0.03441435207867966.\n",
      " \n",
      "r = [(Partner: no) ∧ (SeniorCitizen: 0) ∧  (PhoneService: yes)  ∧ (TechSupport: no → yes)  ∧ (OnlineSecurity: no → yes)  ∧  (DeviceProtection: no)  ∧ (InternetService: fiber optic → dsl) ] ⇒ [Churn: Yes → No] with support: 0.009371006673292631, confidence: 0.537956204379562, uplift: 0.038228027829050125.\n",
      " \n",
      "r = [(Partner: no) ∧ (SeniorCitizen: 0) ∧  (PhoneService: yes)  ∧ (TechSupport: no → yes)  ∧ (OnlineSecurity: no → yes)  ∧ (DeviceProtection: no → yes)  ∧ (InternetService: fiber optic → dsl) ] ⇒ [Churn: Yes → No] with support: 0.013062615362771547, confidence: 0.5624087591240876, uplift: 0.041340337924180036.\n",
      " \n",
      "r = [(Partner: no) ∧ (SeniorCitizen: 0) ∧  (PhoneService: yes)  ∧ (TechSupport: no → no internet service)  ∧ (OnlineSecurity: no → no internet service)  ∧ (DeviceProtection: no → no internet service)  ∧ (InternetService: fiber optic → no) ] ⇒ [Churn: Yes → No] with support: 0.04756495811443987, confidence: 0.5464168524169862, uplift: 0.039304895280051814.\n",
      " \n",
      "r = [(Partner: no) ∧ (SeniorCitizen: 0) ∧  (TechSupport: no)  ∧  (OnlineSecurity: no)  ∧ (DeviceProtection: no → yes)  ∧ (InternetService: fiber optic → dsl) ] ⇒ [Churn: Yes → No] with support: 0.008519096975720574, confidence: 0.40754257907542574, uplift: 0.0216290406550239.\n",
      " \n",
      "r = [(Partner: no) ∧ (SeniorCitizen: 0) ∧ (TechSupport: no → yes)  ∧  (OnlineSecurity: no)  ∧ (DeviceProtection: no → yes)  ∧  (InternetService: fiber optic) ] ⇒ [Churn: Yes → No] with support: 0.009371006673292631, confidence: 0.4292203758347569, uplift: 0.02438818081028092.\n",
      " \n",
      "r = [(Partner: no) ∧ (SeniorCitizen: 0) ∧ (TechSupport: no → yes)  ∧  (OnlineSecurity: no)  ∧  (DeviceProtection: no)  ∧ (InternetService: fiber optic → dsl) ] ⇒ [Churn: Yes → No] with support: 0.014908419707511004, confidence: 0.4754663422546634, uplift: 0.030274346474829225.\n",
      " \n",
      "r = [(Partner: no) ∧ (SeniorCitizen: 0) ∧ (TechSupport: no → yes)  ∧  (OnlineSecurity: no)  ∧ (DeviceProtection: no → yes)  ∧ (InternetService: fiber optic → dsl) ] ⇒ [Churn: Yes → No] with support: 0.010648871219650717, confidence: 0.5393945899527693, uplift: 0.03841110489346953.\n",
      " \n",
      "r = [(Partner: no) ∧ (SeniorCitizen: 0) ∧  (TechSupport: no)  ∧ (OnlineSecurity: no → yes)  ∧  (DeviceProtection: no)  ∧  (InternetService: fiber optic) ] ⇒ [Churn: Yes → No] with support: 0.008093142126934546, confidence: 0.374676242053214, uplift: 0.017445828161569712.\n",
      " \n",
      "r = [(Partner: no) ∧ (SeniorCitizen: 0) ∧  (TechSupport: no)  ∧ (OnlineSecurity: no → yes)  ∧  (DeviceProtection: no)  ∧ (InternetService: fiber optic → dsl) ] ⇒ [Churn: Yes → No] with support: 0.01419849495953429, confidence: 0.4666518081016326, uplift: 0.029152436559281972.\n",
      " \n",
      "r = [(Partner: no) ∧ (SeniorCitizen: 0) ∧  (TechSupport: no)  ∧ (OnlineSecurity: no → yes)  ∧ (DeviceProtection: no → yes)  ∧ (InternetService: fiber optic → dsl) ] ⇒ [Churn: Yes → No] with support: 0.009229021723697288, confidence: 0.5930656934306568, uplift: 0.04524233864046232.\n",
      " \n",
      "r = [(Partner: no) ∧ (SeniorCitizen: 0) ∧ (TechSupport: no → yes)  ∧ (OnlineSecurity: no → yes)  ∧ (DeviceProtection: no → yes)  ∧  (InternetService: fiber optic) ] ⇒ [Churn: Yes → No] with support: 0.008377112026125231, confidence: 0.5079932147630307, uplift: 0.03441435207867966.\n",
      " \n",
      "r = [(Partner: no) ∧ (SeniorCitizen: 0) ∧ (TechSupport: no → yes)  ∧ (OnlineSecurity: no → yes)  ∧  (DeviceProtection: no)  ∧ (InternetService: fiber optic → dsl) ] ⇒ [Churn: Yes → No] with support: 0.01419849495953429, confidence: 0.5458159541188738, uplift: 0.03922841321677046.\n",
      " \n",
      "r = [(Partner: no) ∧ (SeniorCitizen: 0) ∧ (TechSupport: no → yes)  ∧ (OnlineSecurity: no → yes)  ∧ (DeviceProtection: no → yes)  ∧ (InternetService: fiber optic → dsl) ] ⇒ [Churn: Yes → No] with support: 0.018742013346585262, confidence: 0.5642897248736665, uplift: 0.041579746393036195.\n",
      " \n"
     ]
    }
   ],
   "source": [
    "for rule in actionRulesDiscovery.get_action_rules_representation()[:20]:\n",
    "    print(rule)\n",
    "    print(\" \")"
   ]
  },
  {
   "cell_type": "code",
   "execution_count": null,
   "id": "db2c5652-e3a9-445f-b6e2-ecc496abfa1d",
   "metadata": {},
   "outputs": [],
   "source": []
  }
 ],
 "metadata": {
  "kernelspec": {
   "display_name": "Python 3 (ipykernel)",
   "language": "python",
   "name": "python3"
  },
  "language_info": {
   "codemirror_mode": {
    "name": "ipython",
    "version": 3
   },
   "file_extension": ".py",
   "mimetype": "text/x-python",
   "name": "python",
   "nbconvert_exporter": "python",
   "pygments_lexer": "ipython3",
   "version": "3.12.3"
  }
 },
 "nbformat": 4,
 "nbformat_minor": 5
}
